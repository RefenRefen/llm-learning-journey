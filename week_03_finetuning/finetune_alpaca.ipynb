{
 "cells": [
  {
   "cell_type": "markdown",
   "source": "# Finetune Alpaca with QLoRA\n\nThis notebook will walk through QLoRA fine-tuning using PEFT.",
   "metadata": {}
  },
  {
   "cell_type": "code",
   "source": "# Placeholder: You can use huggingface/peft + trl for training\n",
   "metadata": {},
   "execution_count": null,
   "outputs": []
  }
 ],
 "metadata": {},
 "nbformat": 4,
 "nbformat_minor": 5
}